{
 "cells": [
  {
   "cell_type": "markdown",
   "id": "21832e72-643a-48c6-8650-61c150df6240",
   "metadata": {},
   "source": [
    "# 3. Multi-Dimensional Analysis(다차원 분석)에서 통계분석\n",
    "- Proposed by Biber (1988) and used in various text analytic research\n",
    "- Useful to identify genre and stylistic features of texts\n",
    "- Six dimensions of lexico-grammatical patterns of texts\n"
   ]
  },
  {
   "cell_type": "code",
   "execution_count": 28,
   "id": "6da7f0ce-b647-4f3e-9503-2be6a7ac4db8",
   "metadata": {},
   "outputs": [
    {
     "data": {
      "text/plain": [
       "'C:\\\\Users\\\\sumihan\\\\Desktop\\\\NLP 연구\\\\AI 소설 텍스트 분석 연구'"
      ]
     },
     "execution_count": 28,
     "metadata": {},
     "output_type": "execute_result"
    }
   ],
   "source": [
    "import os\n",
    "os.getcwd()\n"
   ]
  },
  {
   "cell_type": "code",
   "execution_count": 29,
   "id": "11ab4f62-c58a-49d6-bf7c-da230b078218",
   "metadata": {},
   "outputs": [],
   "source": [
    "# 필요한 패키지\n",
    "\n",
    "# !pip install seaborn\n",
    "# !pip install factor_analyzer  \n",
    "# from factor_analyzer import FactorAnalyzer"
   ]
  },
  {
   "cell_type": "code",
   "execution_count": 30,
   "id": "9a6c9566-487c-4ad5-a90b-79686e76bcbd",
   "metadata": {},
   "outputs": [],
   "source": [
    "import pandas as pd\n",
    "# !pip install statsmodels\n",
    "# from statsmodels.multivariate.manova import MANOVA"
   ]
  },
  {
   "cell_type": "code",
   "execution_count": 31,
   "id": "6c263e48-acce-48ae-a8a8-84d19848d9ad",
   "metadata": {},
   "outputs": [
    {
     "data": {
      "text/html": [
       "<div>\n",
       "<style scoped>\n",
       "    .dataframe tbody tr th:only-of-type {\n",
       "        vertical-align: middle;\n",
       "    }\n",
       "\n",
       "    .dataframe tbody tr th {\n",
       "        vertical-align: top;\n",
       "    }\n",
       "\n",
       "    .dataframe thead th {\n",
       "        text-align: right;\n",
       "    }\n",
       "</style>\n",
       "<table border=\"1\" class=\"dataframe\">\n",
       "  <thead>\n",
       "    <tr style=\"text-align: right;\">\n",
       "      <th></th>\n",
       "      <th>Filename</th>\n",
       "      <th>Gender</th>\n",
       "      <th>Publication Year</th>\n",
       "      <th>Dimension1</th>\n",
       "      <th>Dimension2</th>\n",
       "      <th>Dimension3</th>\n",
       "      <th>Dimension4</th>\n",
       "      <th>Dimension5</th>\n",
       "      <th>Dimension6</th>\n",
       "      <th>Closest Text Type</th>\n",
       "      <th>Type</th>\n",
       "    </tr>\n",
       "  </thead>\n",
       "  <tbody>\n",
       "    <tr>\n",
       "      <th>113</th>\n",
       "      <td>C114_Dagon</td>\n",
       "      <td>Male</td>\n",
       "      <td>1917.0</td>\n",
       "      <td>-7.39</td>\n",
       "      <td>1.42</td>\n",
       "      <td>3.96</td>\n",
       "      <td>-3.42</td>\n",
       "      <td>0.38</td>\n",
       "      <td>0.16</td>\n",
       "      <td>General narrative exposition</td>\n",
       "      <td>SF</td>\n",
       "    </tr>\n",
       "    <tr>\n",
       "      <th>114</th>\n",
       "      <td>C115_Nyarlathotep_H_P_Lovecraft</td>\n",
       "      <td>Male</td>\n",
       "      <td>1920.0</td>\n",
       "      <td>-5.55</td>\n",
       "      <td>0.42</td>\n",
       "      <td>4.21</td>\n",
       "      <td>-6.51</td>\n",
       "      <td>-2.42</td>\n",
       "      <td>0.48</td>\n",
       "      <td>General narrative exposition</td>\n",
       "      <td>SF</td>\n",
       "    </tr>\n",
       "    <tr>\n",
       "      <th>115</th>\n",
       "      <td>C116_The_Whisper_in_the_Darkness</td>\n",
       "      <td>Male</td>\n",
       "      <td>1930.0</td>\n",
       "      <td>-3.99</td>\n",
       "      <td>1.82</td>\n",
       "      <td>2.78</td>\n",
       "      <td>-0.02</td>\n",
       "      <td>-0.20</td>\n",
       "      <td>1.17</td>\n",
       "      <td>General narrative exposition</td>\n",
       "      <td>SF</td>\n",
       "    </tr>\n",
       "  </tbody>\n",
       "</table>\n",
       "</div>"
      ],
      "text/plain": [
       "                             Filename Gender  Publication Year  Dimension1  \\\n",
       "113                        C114_Dagon   Male            1917.0       -7.39   \n",
       "114   C115_Nyarlathotep_H_P_Lovecraft   Male            1920.0       -5.55   \n",
       "115  C116_The_Whisper_in_the_Darkness   Male            1930.0       -3.99   \n",
       "\n",
       "     Dimension2  Dimension3  Dimension4  Dimension5  Dimension6  \\\n",
       "113        1.42        3.96       -3.42        0.38        0.16   \n",
       "114        0.42        4.21       -6.51       -2.42        0.48   \n",
       "115        1.82        2.78       -0.02       -0.20        1.17   \n",
       "\n",
       "                Closest Text Type Type  \n",
       "113  General narrative exposition   SF  \n",
       "114  General narrative exposition   SF  \n",
       "115  General narrative exposition   SF  "
      ]
     },
     "execution_count": 31,
     "metadata": {},
     "output_type": "execute_result"
    }
   ],
   "source": [
    "# MDA_dimensions 데이터 읽기\n",
    "\n",
    "import pandas as pd\n",
    "\n",
    "df = pd.read_csv('data_analysis_MDA.csv')\n",
    "df.head()\n",
    "df = df[:212]\n",
    "df[113:116]"
   ]
  },
  {
   "cell_type": "code",
   "execution_count": 33,
   "id": "05b29b89-79f3-4ed2-a05d-34561d58c897",
   "metadata": {},
   "outputs": [
    {
     "data": {
      "text/html": [
       "<div>\n",
       "<style scoped>\n",
       "    .dataframe tbody tr th:only-of-type {\n",
       "        vertical-align: middle;\n",
       "    }\n",
       "\n",
       "    .dataframe tbody tr th {\n",
       "        vertical-align: top;\n",
       "    }\n",
       "\n",
       "    .dataframe thead th {\n",
       "        text-align: right;\n",
       "    }\n",
       "</style>\n",
       "<table border=\"1\" class=\"dataframe\">\n",
       "  <thead>\n",
       "    <tr style=\"text-align: right;\">\n",
       "      <th></th>\n",
       "      <th>Filename</th>\n",
       "      <th>Gender</th>\n",
       "      <th>Publication Year</th>\n",
       "      <th>Dimension1</th>\n",
       "      <th>Dimension2</th>\n",
       "      <th>Dimension3</th>\n",
       "      <th>Dimension4</th>\n",
       "      <th>Dimension5</th>\n",
       "      <th>Dimension6</th>\n",
       "      <th>Closest Text Type</th>\n",
       "      <th>Type</th>\n",
       "    </tr>\n",
       "  </thead>\n",
       "  <tbody>\n",
       "    <tr>\n",
       "      <th>113</th>\n",
       "      <td>C114_Dagon</td>\n",
       "      <td>Male</td>\n",
       "      <td>1917</td>\n",
       "      <td>-7.39</td>\n",
       "      <td>1.42</td>\n",
       "      <td>3.96</td>\n",
       "      <td>-3.42</td>\n",
       "      <td>0.38</td>\n",
       "      <td>0.16</td>\n",
       "      <td>General narrative exposition</td>\n",
       "      <td>SF</td>\n",
       "    </tr>\n",
       "    <tr>\n",
       "      <th>114</th>\n",
       "      <td>C115_Nyarlathotep_H_P_Lovecraft</td>\n",
       "      <td>Male</td>\n",
       "      <td>1920</td>\n",
       "      <td>-5.55</td>\n",
       "      <td>0.42</td>\n",
       "      <td>4.21</td>\n",
       "      <td>-6.51</td>\n",
       "      <td>-2.42</td>\n",
       "      <td>0.48</td>\n",
       "      <td>General narrative exposition</td>\n",
       "      <td>SF</td>\n",
       "    </tr>\n",
       "    <tr>\n",
       "      <th>115</th>\n",
       "      <td>C116_The_Whisper_in_the_Darkness</td>\n",
       "      <td>Male</td>\n",
       "      <td>1930</td>\n",
       "      <td>-3.99</td>\n",
       "      <td>1.82</td>\n",
       "      <td>2.78</td>\n",
       "      <td>-0.02</td>\n",
       "      <td>-0.20</td>\n",
       "      <td>1.17</td>\n",
       "      <td>General narrative exposition</td>\n",
       "      <td>SF</td>\n",
       "    </tr>\n",
       "  </tbody>\n",
       "</table>\n",
       "</div>"
      ],
      "text/plain": [
       "                             Filename Gender  Publication Year  Dimension1  \\\n",
       "113                        C114_Dagon   Male              1917       -7.39   \n",
       "114   C115_Nyarlathotep_H_P_Lovecraft   Male              1920       -5.55   \n",
       "115  C116_The_Whisper_in_the_Darkness   Male              1930       -3.99   \n",
       "\n",
       "     Dimension2  Dimension3  Dimension4  Dimension5  Dimension6  \\\n",
       "113        1.42        3.96       -3.42        0.38        0.16   \n",
       "114        0.42        4.21       -6.51       -2.42        0.48   \n",
       "115        1.82        2.78       -0.02       -0.20        1.17   \n",
       "\n",
       "                Closest Text Type Type  \n",
       "113  General narrative exposition   SF  \n",
       "114  General narrative exposition   SF  \n",
       "115  General narrative exposition   SF  "
      ]
     },
     "execution_count": 33,
     "metadata": {},
     "output_type": "execute_result"
    }
   ],
   "source": [
    "df['Publication Year'] = df['Publication Year'].astype('int')\n",
    "df.dtypes\n",
    "df[113:116]"
   ]
  },
  {
   "cell_type": "code",
   "execution_count": 34,
   "id": "d081b9de-af61-4ac8-94a0-4b3733ae8f69",
   "metadata": {},
   "outputs": [
    {
     "data": {
      "text/plain": [
       "Publication Year\n",
       "1826        1\n",
       "1896        1\n",
       "1901        1\n",
       "1904        1\n",
       "1906        2\n",
       "           ..\n",
       "2019        6\n",
       "2020        5\n",
       "2022        1\n",
       "19602015    1\n",
       "19862013    1\n",
       "Name: count, Length: 84, dtype: int64"
      ]
     },
     "execution_count": 34,
     "metadata": {},
     "output_type": "execute_result"
    }
   ],
   "source": [
    "df['Publication Year'].value_counts().sort_index()   # 20, 21세기 소설이나 예외있음(2권)    "
   ]
  },
  {
   "cell_type": "code",
   "execution_count": 35,
   "id": "b4909326-f032-4c92-926c-878fe48d997f",
   "metadata": {},
   "outputs": [
    {
     "data": {
      "text/plain": [
       "106"
      ]
     },
     "execution_count": 35,
     "metadata": {},
     "output_type": "execute_result"
    }
   ],
   "source": [
    "df[df['Publication Year']>2000]['Publication Year'].count()       #106개?    # 19602015    19862013    => 이 경우 두개 빼고, 104개"
   ]
  },
  {
   "cell_type": "code",
   "execution_count": 38,
   "id": "f5aec0e2-8e86-481e-8ae9-ff8623c91164",
   "metadata": {},
   "outputs": [
    {
     "data": {
      "text/plain": [
       "0      2017\n",
       "1      2020\n",
       "2      2017\n",
       "8      2011\n",
       "9      2003\n",
       "       ... \n",
       "202    2011\n",
       "203    2014\n",
       "209    2013\n",
       "210    2017\n",
       "211    2018\n",
       "Name: Publication Year, Length: 106, dtype: int32"
      ]
     },
     "execution_count": 38,
     "metadata": {},
     "output_type": "execute_result"
    }
   ],
   "source": [
    "df[df['Publication Year']>2000]['Publication Year']"
   ]
  },
  {
   "cell_type": "code",
   "execution_count": 39,
   "id": "c6f6e1e4-04eb-40e1-8656-0f3a4b199f03",
   "metadata": {},
   "outputs": [
    {
     "data": {
      "text/plain": [
       "106"
      ]
     },
     "execution_count": 39,
     "metadata": {},
     "output_type": "execute_result"
    }
   ],
   "source": [
    "df[df['Publication Year'] <= 2000]['Publication Year'].count()   #106개 +2개 =>   108개 "
   ]
  },
  {
   "cell_type": "code",
   "execution_count": 40,
   "id": "8b2294d6-95af-450b-9f44-79247085784c",
   "metadata": {},
   "outputs": [
    {
     "data": {
      "text/plain": [
       "3      1964\n",
       "4      1962\n",
       "5      1952\n",
       "6      1983\n",
       "7      1991\n",
       "       ... \n",
       "204    1927\n",
       "205    1929\n",
       "206    1954\n",
       "207    1954\n",
       "208    1955\n",
       "Name: Publication Year, Length: 106, dtype: int32"
      ]
     },
     "execution_count": 40,
     "metadata": {},
     "output_type": "execute_result"
    }
   ],
   "source": [
    "df[df['Publication Year']<=2000]['Publication Year'] "
   ]
  },
  {
   "cell_type": "code",
   "execution_count": 41,
   "id": "d907d62a-f06a-4fdb-bd9d-4bff03843354",
   "metadata": {},
   "outputs": [
    {
     "name": "stdout",
     "output_type": "stream",
     "text": [
      "<class 'pandas.core.frame.DataFrame'>\n",
      "RangeIndex: 212 entries, 0 to 211\n",
      "Data columns (total 11 columns):\n",
      " #   Column             Non-Null Count  Dtype  \n",
      "---  ------             --------------  -----  \n",
      " 0   Filename           212 non-null    object \n",
      " 1   Gender             212 non-null    object \n",
      " 2   Publication Year   212 non-null    int32  \n",
      " 3   Dimension1         212 non-null    float64\n",
      " 4   Dimension2         212 non-null    float64\n",
      " 5   Dimension3         212 non-null    float64\n",
      " 6   Dimension4         212 non-null    float64\n",
      " 7   Dimension5         212 non-null    float64\n",
      " 8   Dimension6         212 non-null    float64\n",
      " 9   Closest Text Type  212 non-null    object \n",
      " 10  Type               212 non-null    object \n",
      "dtypes: float64(6), int32(1), object(4)\n",
      "memory usage: 17.5+ KB\n"
     ]
    }
   ],
   "source": [
    "df.info()"
   ]
  },
  {
   "cell_type": "code",
   "execution_count": 42,
   "id": "15717c76-5801-452f-8941-ae1a87463af8",
   "metadata": {},
   "outputs": [
    {
     "data": {
      "text/html": [
       "<div>\n",
       "<style scoped>\n",
       "    .dataframe tbody tr th:only-of-type {\n",
       "        vertical-align: middle;\n",
       "    }\n",
       "\n",
       "    .dataframe tbody tr th {\n",
       "        vertical-align: top;\n",
       "    }\n",
       "\n",
       "    .dataframe thead th {\n",
       "        text-align: right;\n",
       "    }\n",
       "</style>\n",
       "<table border=\"1\" class=\"dataframe\">\n",
       "  <thead>\n",
       "    <tr style=\"text-align: right;\">\n",
       "      <th></th>\n",
       "      <th>Publication Year</th>\n",
       "      <th>Dimension1</th>\n",
       "      <th>Dimension2</th>\n",
       "      <th>Dimension3</th>\n",
       "      <th>Dimension4</th>\n",
       "      <th>Dimension5</th>\n",
       "      <th>Dimension6</th>\n",
       "    </tr>\n",
       "  </thead>\n",
       "  <tbody>\n",
       "    <tr>\n",
       "      <th>count</th>\n",
       "      <td>2.120000e+02</td>\n",
       "      <td>212.000000</td>\n",
       "      <td>212.000000</td>\n",
       "      <td>212.000000</td>\n",
       "      <td>212.000000</td>\n",
       "      <td>212.000000</td>\n",
       "      <td>212.000000</td>\n",
       "    </tr>\n",
       "    <tr>\n",
       "      <th>mean</th>\n",
       "      <td>1.881136e+05</td>\n",
       "      <td>-0.096085</td>\n",
       "      <td>4.147972</td>\n",
       "      <td>-0.171462</td>\n",
       "      <td>-0.304858</td>\n",
       "      <td>-0.770094</td>\n",
       "      <td>-1.061321</td>\n",
       "    </tr>\n",
       "    <tr>\n",
       "      <th>std</th>\n",
       "      <td>1.911846e+06</td>\n",
       "      <td>5.997934</td>\n",
       "      <td>1.940585</td>\n",
       "      <td>1.781122</td>\n",
       "      <td>1.789196</td>\n",
       "      <td>0.903952</td>\n",
       "      <td>0.794887</td>\n",
       "    </tr>\n",
       "    <tr>\n",
       "      <th>min</th>\n",
       "      <td>1.826000e+03</td>\n",
       "      <td>-16.750000</td>\n",
       "      <td>-1.210000</td>\n",
       "      <td>-3.780000</td>\n",
       "      <td>-6.510000</td>\n",
       "      <td>-3.290000</td>\n",
       "      <td>-2.500000</td>\n",
       "    </tr>\n",
       "    <tr>\n",
       "      <th>25%</th>\n",
       "      <td>1.955750e+03</td>\n",
       "      <td>-3.605000</td>\n",
       "      <td>3.090000</td>\n",
       "      <td>-1.237500</td>\n",
       "      <td>-1.320000</td>\n",
       "      <td>-1.390000</td>\n",
       "      <td>-1.640000</td>\n",
       "    </tr>\n",
       "    <tr>\n",
       "      <th>50%</th>\n",
       "      <td>1.999500e+03</td>\n",
       "      <td>0.060000</td>\n",
       "      <td>4.465000</td>\n",
       "      <td>-0.550000</td>\n",
       "      <td>-0.210000</td>\n",
       "      <td>-0.915000</td>\n",
       "      <td>-1.170000</td>\n",
       "    </tr>\n",
       "    <tr>\n",
       "      <th>75%</th>\n",
       "      <td>2.014000e+03</td>\n",
       "      <td>4.002500</td>\n",
       "      <td>5.442500</td>\n",
       "      <td>0.545000</td>\n",
       "      <td>0.752500</td>\n",
       "      <td>-0.375000</td>\n",
       "      <td>-0.670000</td>\n",
       "    </tr>\n",
       "    <tr>\n",
       "      <th>max</th>\n",
       "      <td>1.986201e+07</td>\n",
       "      <td>14.380000</td>\n",
       "      <td>8.910000</td>\n",
       "      <td>7.350000</td>\n",
       "      <td>6.530000</td>\n",
       "      <td>3.500000</td>\n",
       "      <td>4.580000</td>\n",
       "    </tr>\n",
       "  </tbody>\n",
       "</table>\n",
       "</div>"
      ],
      "text/plain": [
       "       Publication Year  Dimension1  Dimension2  Dimension3  Dimension4  \\\n",
       "count      2.120000e+02  212.000000  212.000000  212.000000  212.000000   \n",
       "mean       1.881136e+05   -0.096085    4.147972   -0.171462   -0.304858   \n",
       "std        1.911846e+06    5.997934    1.940585    1.781122    1.789196   \n",
       "min        1.826000e+03  -16.750000   -1.210000   -3.780000   -6.510000   \n",
       "25%        1.955750e+03   -3.605000    3.090000   -1.237500   -1.320000   \n",
       "50%        1.999500e+03    0.060000    4.465000   -0.550000   -0.210000   \n",
       "75%        2.014000e+03    4.002500    5.442500    0.545000    0.752500   \n",
       "max        1.986201e+07   14.380000    8.910000    7.350000    6.530000   \n",
       "\n",
       "       Dimension5  Dimension6  \n",
       "count  212.000000  212.000000  \n",
       "mean    -0.770094   -1.061321  \n",
       "std      0.903952    0.794887  \n",
       "min     -3.290000   -2.500000  \n",
       "25%     -1.390000   -1.640000  \n",
       "50%     -0.915000   -1.170000  \n",
       "75%     -0.375000   -0.670000  \n",
       "max      3.500000    4.580000  "
      ]
     },
     "execution_count": 42,
     "metadata": {},
     "output_type": "execute_result"
    }
   ],
   "source": [
    "df.describe()"
   ]
  },
  {
   "cell_type": "code",
   "execution_count": 44,
   "id": "003b3645-360b-4caf-85ed-2c23e561482e",
   "metadata": {},
   "outputs": [
    {
     "name": "stdout",
     "output_type": "stream",
     "text": [
      "<class 'pandas.core.frame.DataFrame'>\n",
      "Index: 136 entries, 0 to 209\n",
      "Data columns (total 11 columns):\n",
      " #   Column             Non-Null Count  Dtype  \n",
      "---  ------             --------------  -----  \n",
      " 0   Filename           136 non-null    object \n",
      " 1   Gender             136 non-null    object \n",
      " 2   Publication Year   136 non-null    int32  \n",
      " 3   Dimension1         136 non-null    float64\n",
      " 4   Dimension2         136 non-null    float64\n",
      " 5   Dimension3         136 non-null    float64\n",
      " 6   Dimension4         136 non-null    float64\n",
      " 7   Dimension5         136 non-null    float64\n",
      " 8   Dimension6         136 non-null    float64\n",
      " 9   Closest Text Type  136 non-null    object \n",
      " 10  Type               136 non-null    object \n",
      "dtypes: float64(6), int32(1), object(4)\n",
      "memory usage: 12.2+ KB\n"
     ]
    }
   ],
   "source": [
    "# 남녀 작가 SF 소설 코퍼스 비교/대조\n",
    "df_m = df[df['Gender'] == 'Male']  \n",
    "df_f = df[df['Gender'] == 'Female']            \n",
    "\n",
    "df_m.info()"
   ]
  },
  {
   "cell_type": "code",
   "execution_count": 45,
   "id": "8fb6e63c-cec2-4bd1-ba6b-b922d1864f96",
   "metadata": {},
   "outputs": [
    {
     "data": {
      "text/html": [
       "<div>\n",
       "<style scoped>\n",
       "    .dataframe tbody tr th:only-of-type {\n",
       "        vertical-align: middle;\n",
       "    }\n",
       "\n",
       "    .dataframe tbody tr th {\n",
       "        vertical-align: top;\n",
       "    }\n",
       "\n",
       "    .dataframe thead th {\n",
       "        text-align: right;\n",
       "    }\n",
       "</style>\n",
       "<table border=\"1\" class=\"dataframe\">\n",
       "  <thead>\n",
       "    <tr style=\"text-align: right;\">\n",
       "      <th></th>\n",
       "      <th>Filename</th>\n",
       "      <th>Gender</th>\n",
       "      <th>Publication Year</th>\n",
       "      <th>Dimension1</th>\n",
       "      <th>Dimension2</th>\n",
       "      <th>Dimension3</th>\n",
       "      <th>Dimension4</th>\n",
       "      <th>Dimension5</th>\n",
       "      <th>Dimension6</th>\n",
       "      <th>Closest Text Type</th>\n",
       "      <th>Type</th>\n",
       "    </tr>\n",
       "  </thead>\n",
       "  <tbody>\n",
       "    <tr>\n",
       "      <th>2</th>\n",
       "      <td>C003_The_Power</td>\n",
       "      <td>Female</td>\n",
       "      <td>2017</td>\n",
       "      <td>7.14</td>\n",
       "      <td>3.27</td>\n",
       "      <td>-0.24</td>\n",
       "      <td>0.07</td>\n",
       "      <td>-1.34</td>\n",
       "      <td>-0.69</td>\n",
       "      <td>Imaginative narrative</td>\n",
       "      <td>SF</td>\n",
       "    </tr>\n",
       "    <tr>\n",
       "      <th>7</th>\n",
       "      <td>C008_A_Woman_of_the_Iron_People</td>\n",
       "      <td>Female</td>\n",
       "      <td>1991</td>\n",
       "      <td>5.15</td>\n",
       "      <td>4.87</td>\n",
       "      <td>0.45</td>\n",
       "      <td>-0.77</td>\n",
       "      <td>-1.86</td>\n",
       "      <td>-1.93</td>\n",
       "      <td>Imaginative narrative</td>\n",
       "      <td>SF</td>\n",
       "    </tr>\n",
       "  </tbody>\n",
       "</table>\n",
       "</div>"
      ],
      "text/plain": [
       "                          Filename  Gender  Publication Year  Dimension1  \\\n",
       "2                   C003_The_Power  Female              2017        7.14   \n",
       "7  C008_A_Woman_of_the_Iron_People  Female              1991        5.15   \n",
       "\n",
       "   Dimension2  Dimension3  Dimension4  Dimension5  Dimension6  \\\n",
       "2        3.27       -0.24        0.07       -1.34       -0.69   \n",
       "7        4.87        0.45       -0.77       -1.86       -1.93   \n",
       "\n",
       "       Closest Text Type Type  \n",
       "2  Imaginative narrative   SF  \n",
       "7  Imaginative narrative   SF  "
      ]
     },
     "execution_count": 45,
     "metadata": {},
     "output_type": "execute_result"
    }
   ],
   "source": [
    "df_f[:2]"
   ]
  },
  {
   "cell_type": "code",
   "execution_count": 46,
   "id": "16263796-0e44-4f19-8191-26cd9a9cd87f",
   "metadata": {},
   "outputs": [
    {
     "data": {
      "text/plain": [
       "Index(['Dimension1', 'Dimension2', 'Dimension3', 'Dimension4', 'Dimension5',\n",
       "       'Dimension6'],\n",
       "      dtype='object')"
      ]
     },
     "execution_count": 46,
     "metadata": {},
     "output_type": "execute_result"
    }
   ],
   "source": [
    "df_f.columns[3:9]"
   ]
  },
  {
   "cell_type": "code",
   "execution_count": 47,
   "id": "b2b444b0-8b4c-4d03-a634-c66c8250d329",
   "metadata": {},
   "outputs": [
    {
     "data": {
      "text/plain": [
       "count    136.000000\n",
       "mean      -1.186029\n",
       "std        5.827917\n",
       "min      -16.750000\n",
       "25%       -4.335000\n",
       "50%       -1.065000\n",
       "75%        2.107500\n",
       "max       14.380000\n",
       "Name: Dimension1, dtype: float64"
      ]
     },
     "execution_count": 47,
     "metadata": {},
     "output_type": "execute_result"
    }
   ],
   "source": [
    "## 남여 평균 내기\n",
    "\n",
    "# dimension 1\n",
    "df_m_d1 = df_m['Dimension1']\n",
    "df_f_d1 = df_f['Dimension1']\n",
    "\n",
    "df_m_d1.describe() "
   ]
  },
  {
   "cell_type": "code",
   "execution_count": 48,
   "id": "a2cf4f40-49d1-40cd-a1e2-6fdffda9032b",
   "metadata": {},
   "outputs": [
    {
     "data": {
      "text/plain": [
       "count    76.000000\n",
       "mean      1.854342\n",
       "std       5.836510\n",
       "min     -10.150000\n",
       "25%      -1.832500\n",
       "50%       2.455000\n",
       "75%       5.575000\n",
       "max      13.920000\n",
       "Name: Dimension1, dtype: float64"
      ]
     },
     "execution_count": 48,
     "metadata": {},
     "output_type": "execute_result"
    }
   ],
   "source": [
    "df_f_d1.describe()"
   ]
  },
  {
   "cell_type": "code",
   "execution_count": 49,
   "id": "0c8e5a7a-88c5-4ad0-b7c2-96511125455d",
   "metadata": {},
   "outputs": [
    {
     "data": {
      "image/png": "[encoded data removed]",
      "text/plain": [
       "<Figure size 1000x400 with 2 Axes>"
      ]
     },
     "metadata": {},
     "output_type": "display_data"
    }
   ],
   "source": [
    "import seaborn as sns\n",
    "import matplotlib.pyplot as plt\n",
    "fig, axs = plt.subplots(ncols=2, figsize=(10, 4))\n",
    "sns.boxplot(data=df, x=\"Gender\", y=\"Dimension1\", hue=df.Type.tolist(), ax=axs[0])\n",
    "sns.boxplot(data=df, x=\"Gender\", y=\"Dimension2\", hue=df.Type.tolist(), ax=axs[1])              # SD가 높은 편;mean에서 +-2SD를 제외할 수 있음...outliers(이상치제거 필요)\n",
    "plt.show()"
   ]
  },
  {
   "cell_type": "code",
   "execution_count": 50,
   "id": "e71c37a7-f392-44ee-b398-5d85b598c13b",
   "metadata": {},
   "outputs": [
    {
     "data": {
      "image/png": "[encoded data removed]",
      "text/plain": [
       "<Figure size 1000x400 with 2 Axes>"
      ]
     },
     "metadata": {},
     "output_type": "display_data"
    }
   ],
   "source": [
    "fig, axs = plt.subplots(ncols=2, figsize=(10, 4))\n",
    "sns.boxplot(data=df, x=\"Gender\", y=\"Dimension3\", hue=df.Type.tolist(), ax=axs[0])\n",
    "sns.boxplot(data=df, x=\"Gender\", y=\"Dimension4\", hue=df.Type.tolist(), ax=axs[1])           # Female의 Dimension 3의 경우 outliers가 많음; variance 작음\n",
    "plt.show()"
   ]
  },
  {
   "cell_type": "code",
   "execution_count": 51,
   "id": "952e3e8c-8396-4a6d-b51e-5d5c0836820c",
   "metadata": {},
   "outputs": [
    {
     "data": {
      "image/png": "[encoded data removed]",
      "text/plain": [
       "<Figure size 1000x400 with 2 Axes>"
      ]
     },
     "metadata": {},
     "output_type": "display_data"
    }
   ],
   "source": [
    "fig, axs = plt.subplots(ncols=2, figsize=(10, 4))\n",
    "sns.boxplot(data=df, x=\"Gender\", y=\"Dimension5\", hue=df.Type.tolist(), ax=axs[0])\n",
    "sns.boxplot(data=df, x=\"Gender\", y=\"Dimension6\", hue=df.Type.tolist(), ax=axs[1])\n",
    "plt.show()"
   ]
  },
  {
   "cell_type": "code",
   "execution_count": null,
   "id": "05c4e4ae-ddb7-48fa-a614-46aaae4dcc9d",
   "metadata": {},
   "outputs": [],
   "source": []
  },
  {
   "cell_type": "code",
   "execution_count": null,
   "id": "b8355e64-16e5-44f6-b959-46e8282b126c",
   "metadata": {},
   "outputs": [],
   "source": []
  }
 ],
 "metadata": {
  "kernelspec": {
   "display_name": "Python 3 (ipykernel)",
   "language": "python",
   "name": "python3"
  },
  "language_info": {
   "codemirror_mode": {
    "name": "ipython",
    "version": 3
   },
   "file_extension": ".py",
   "mimetype": "text/x-python",
   "name": "python",
   "nbconvert_exporter": "python",
   "pygments_lexer": "ipython3",
   "version": "3.10.12"
  }
 },
 "nbformat": 4,
 "nbformat_minor": 5
}
